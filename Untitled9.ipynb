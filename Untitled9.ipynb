{
  "nbformat": 4,
  "nbformat_minor": 0,
  "metadata": {
    "colab": {
      "provenance": [],
      "authorship_tag": "ABX9TyPwnHVehP2L2Gmm0Tq3gpA9",
      "include_colab_link": true
    },
    "kernelspec": {
      "name": "python3",
      "display_name": "Python 3"
    },
    "language_info": {
      "name": "python"
    }
  },
  "cells": [
    {
      "cell_type": "markdown",
      "metadata": {
        "id": "view-in-github",
        "colab_type": "text"
      },
      "source": [
        "<a href=\"https://colab.research.google.com/github/Sreenandan876/ASSIGNMENT-2/blob/main/Untitled9.ipynb\" target=\"_parent\"><img src=\"https://colab.research.google.com/assets/colab-badge.svg\" alt=\"Open In Colab\"/></a>"
      ]
    },
    {
      "cell_type": "code",
      "execution_count": 1,
      "metadata": {
        "id": "kIPrNmP5JR5n"
      },
      "outputs": [],
      "source": [
        "def Temperature_modeling(a,b,c,time):\n",
        "  temperature=a*time**2+b*time+c\n",
        "  return temperature"
      ]
    },
    {
      "cell_type": "code",
      "source": [
        "#Hardcore Variables\n",
        "a,b,c=0.1,2,10\n",
        "time=5"
      ],
      "metadata": {
        "id": "n2g9LR1yJ1z1"
      },
      "execution_count": 2,
      "outputs": []
    },
    {
      "cell_type": "code",
      "source": [
        "#display result\n",
        "print(\"hard coded variables for weather modeling\")\n",
        "print(\"Temperature for hardcoded cofficients at time\",time,\"hours:\",Temperature_modeling(a,b,c,time))"
      ],
      "metadata": {
        "colab": {
          "base_uri": "https://localhost:8080/"
        },
        "id": "_9KPFJGfKDCq",
        "outputId": "4105b2a2-d3a5-44ff-d380-820c1c98341d"
      },
      "execution_count": 3,
      "outputs": [
        {
          "output_type": "stream",
          "name": "stdout",
          "text": [
            "hard coded variables for weather modeling\n",
            "Temperature for hardcoded cofficients at time 5 hours: 22.5\n"
          ]
        }
      ]
    },
    {
      "cell_type": "code",
      "source": [
        "a=float(input(\"enter coefficient a:\"))\n",
        "b=float(input(\"enter coefficient b:\"))\n",
        "c=float(input(\"enter coefficient c:\"))\n"
      ],
      "metadata": {
        "colab": {
          "base_uri": "https://localhost:8080/"
        },
        "id": "QP6wE_KuKwN0",
        "outputId": "ab09ddc4-1688-43b2-cdee-bc65dac88e31"
      },
      "execution_count": 4,
      "outputs": [
        {
          "name": "stdout",
          "output_type": "stream",
          "text": [
            "enter coefficient a:23\n",
            "enter coefficient b:21\n",
            "enter coefficient c:75\n"
          ]
        }
      ]
    },
    {
      "cell_type": "code",
      "source": [
        "time=float(input(\"enter time:\"))"
      ],
      "metadata": {
        "colab": {
          "base_uri": "https://localhost:8080/"
        },
        "id": "XbhuukybLItj",
        "outputId": "137d0440-d70d-4f55-e4bd-1ee551a0a53d"
      },
      "execution_count": 5,
      "outputs": [
        {
          "name": "stdout",
          "output_type": "stream",
          "text": [
            "enter time:12\n"
          ]
        }
      ]
    },
    {
      "cell_type": "code",
      "source": [
        "#variables read from keyboard\n",
        "print(\"hard coded variables for weather modeling\")\n",
        "print(\"Temperature for hardcoded cofficients at time\",time,\"hours:\",Temperature_modeling(a,b,c,time))"
      ],
      "metadata": {
        "colab": {
          "base_uri": "https://localhost:8080/"
        },
        "outputId": "0a60c574-e4e2-4291-e009-459340170c3e",
        "id": "H-mipnSZLci5"
      },
      "execution_count": 6,
      "outputs": [
        {
          "output_type": "stream",
          "name": "stdout",
          "text": [
            "hard coded variables for weather modeling\n",
            "Temperature for hardcoded cofficients at time 12.0 hours: 3639.0\n"
          ]
        }
      ]
    },
    {
      "cell_type": "code",
      "source": [
        "#Read coefficients from a file\n",
        "def read_from_file(filename):\n",
        "    with open(filename, \"r\") as file:\n",
        "        lines=file.readlines()\n",
        "    coefficients=[tuple(map(float, line.strip().split(\",\"))) for line in lines]\n",
        "    return coefficients"
      ],
      "metadata": {
        "id": "aA0Iel5YLjjW"
      },
      "execution_count": 17,
      "outputs": []
    },
    {
      "cell_type": "code",
      "source": [
        "#Example:Solve for a single set of inputs\n",
        "coefficients=read_from_file('/sample3.txt TASK 2.txt')\n",
        "a, b, c, time=coefficients[0]\n",
        "temperature=Temperature_modeling(a,b,c,time)\n",
        "print('read from a file for weather modelling')\n",
        "print(\"Temperature form keyboard coefficients at time\",time,\"hours:\",Temperature_modeling(a,b,c,time))\n"
      ],
      "metadata": {
        "colab": {
          "base_uri": "https://localhost:8080/"
        },
        "id": "8qTwv3MgMhPT",
        "outputId": "cfc573d5-280a-4269-ece8-599ef832ac0f"
      },
      "execution_count": 21,
      "outputs": [
        {
          "output_type": "stream",
          "name": "stdout",
          "text": [
            "read from a file for weather modelling\n",
            "Temperature form keyboard coefficients at time 5.0 hours: 22.5\n"
          ]
        }
      ]
    },
    {
      "cell_type": "code",
      "source": [
        "#Solve for all sets in the file\n",
        "for idx, (a,b,c,time) in enumerate(coefficients):\n",
        "  temperature=Temperature_modeling(a,b,c,time)\n",
        "  print(\"Temperature form keyboard coefficients at time\",time,\"hours:\",Temperature_modeling(a,b,c,time))"
      ],
      "metadata": {
        "colab": {
          "base_uri": "https://localhost:8080/"
        },
        "id": "G6ZortAiNiQ7",
        "outputId": "aeb3ea37-8fdb-41f8-c405-7dd5c44c7771"
      },
      "execution_count": 22,
      "outputs": [
        {
          "output_type": "stream",
          "name": "stdout",
          "text": [
            "Temperature form keyboard coefficients at time 5.0 hours: 22.5\n",
            "Temperature form keyboard coefficients at time 2.0 hours: 59.2\n",
            "Temperature form keyboard coefficients at time 0.0 hours: 87.0\n",
            "Temperature form keyboard coefficients at time 3.0 hours: 115.3\n"
          ]
        }
      ]
    },
    {
      "cell_type": "code",
      "source": [],
      "metadata": {
        "id": "xDwiJSbQP0x8"
      },
      "execution_count": null,
      "outputs": []
    }
  ]
}